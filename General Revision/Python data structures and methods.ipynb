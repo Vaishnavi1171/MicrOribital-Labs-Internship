{
 "cells": [
  {
   "cell_type": "markdown",
   "id": "a9272a64",
   "metadata": {},
   "source": [
    "# DATA STRUCTURES"
   ]
  },
  {
   "cell_type": "code",
   "execution_count": 1,
   "id": "37e8843d",
   "metadata": {},
   "outputs": [],
   "source": [
    "# Data structures are “containers” that organize and group data according to type. \n",
    "# The data structures differ based on mutability and order."
   ]
  },
  {
   "cell_type": "markdown",
   "id": "2a4ed46f",
   "metadata": {},
   "source": [
    "## Lets see LIST, TUPLES, SET, DICTIONARY AND STRING Data types in details"
   ]
  },
  {
   "cell_type": "code",
   "execution_count": 2,
   "id": "76b147b2",
   "metadata": {},
   "outputs": [],
   "source": [
    "# FOR MORE INFORMATION https://www.enjoyalgorithms.com/blog/python-tuples-lists-for-ml-data-science/"
   ]
  },
  {
   "cell_type": "markdown",
   "id": "8a762ee1",
   "metadata": {},
   "source": [
    "### LIST"
   ]
  },
  {
   "cell_type": "code",
   "execution_count": 3,
   "id": "4df2ae6a",
   "metadata": {},
   "outputs": [
    {
     "data": {
      "text/plain": [
       "[2, 4, 'Ram', 5.5, True, 'Banana']"
      ]
     },
     "execution_count": 3,
     "metadata": {},
     "output_type": "execute_result"
    }
   ],
   "source": [
    "# LISTS ARE USED TO ENCLOSE THE COMMA-SEPERATED VALUES INSIDE THE 'SQUARE BRACKET' \n",
    "# lets create a list\n",
    "\n",
    "lis1 = [2,4,\"Ram\",5.5,True,\"Banana\"]\n",
    "lis1\n"
   ]
  },
  {
   "cell_type": "code",
   "execution_count": 4,
   "id": "217a1fac",
   "metadata": {},
   "outputs": [
    {
     "data": {
      "text/plain": [
       "list"
      ]
     },
     "execution_count": 4,
     "metadata": {},
     "output_type": "execute_result"
    }
   ],
   "source": [
    "# lets a create a empty list\n",
    "# there are 2 methods\n",
    "# method 1\n",
    "L1 = []\n",
    "\n",
    "# method 2\n",
    "L2 = list()\n",
    "\n",
    "type(L1)"
   ]
  },
  {
   "cell_type": "markdown",
   "id": "fcd1231b",
   "metadata": {},
   "source": [
    "### Lets check and learn all the methods of list"
   ]
  },
  {
   "cell_type": "code",
   "execution_count": 5,
   "id": "866f903e",
   "metadata": {},
   "outputs": [],
   "source": [
    "list2 = [3,4,6,8,10]"
   ]
  },
  {
   "cell_type": "code",
   "execution_count": 6,
   "id": "1ac0194f",
   "metadata": {},
   "outputs": [
    {
     "data": {
      "text/plain": [
       "[3, 4, 6, 8, 10, 12]"
      ]
     },
     "execution_count": 6,
     "metadata": {},
     "output_type": "execute_result"
    }
   ],
   "source": [
    "# Add new elements in list\n",
    "# method - append is use to add single element in list\n",
    "\n",
    "list2.append(12)\n",
    "list2"
   ]
  },
  {
   "cell_type": "code",
   "execution_count": 7,
   "id": "10558ed3",
   "metadata": {},
   "outputs": [
    {
     "data": {
      "text/plain": [
       "[3, 4, 6, 8, 10, 12, 'Ram', 5, True]"
      ]
     },
     "execution_count": 7,
     "metadata": {},
     "output_type": "execute_result"
    }
   ],
   "source": [
    "# method - extend is use to add multiple element in list\n",
    "\n",
    "list2.extend([\"Ram\",5,True])\n",
    "list2"
   ]
  },
  {
   "cell_type": "code",
   "execution_count": 8,
   "id": "f62d92ba",
   "metadata": {},
   "outputs": [
    {
     "data": {
      "text/plain": [
       "[3, 'Vaishnavi', 4, 6, 8, 10, 12, 'Ram', 5, True]"
      ]
     },
     "execution_count": 8,
     "metadata": {},
     "output_type": "execute_result"
    }
   ],
   "source": [
    "# method - insert is use add element in perticular index\n",
    "\n",
    "list2.insert(1, \"Vaishnavi\")\n",
    "list2"
   ]
  },
  {
   "cell_type": "code",
   "execution_count": 9,
   "id": "e4ddb0fe",
   "metadata": {},
   "outputs": [
    {
     "data": {
      "text/plain": [
       "[3, 'Vaishnavi', 4, 6, 8, 10, 12, 5, True]"
      ]
     },
     "execution_count": 9,
     "metadata": {},
     "output_type": "execute_result"
    }
   ],
   "source": [
    "# delete elements from list\n",
    "# method - remove \n",
    "\n",
    "list2.remove('Ram')\n",
    "list2\n"
   ]
  },
  {
   "cell_type": "code",
   "execution_count": 10,
   "id": "a62db7f1",
   "metadata": {},
   "outputs": [
    {
     "data": {
      "text/plain": [
       "8"
      ]
     },
     "execution_count": 10,
     "metadata": {},
     "output_type": "execute_result"
    }
   ],
   "source": [
    "# method pop - it take index number to remove element from list\n",
    "\n",
    "list2.pop(4)"
   ]
  },
  {
   "cell_type": "code",
   "execution_count": 11,
   "id": "5e3594a9",
   "metadata": {},
   "outputs": [
    {
     "data": {
      "text/plain": [
       "[0, 1, 4, 5, 7, 9]"
      ]
     },
     "execution_count": 11,
     "metadata": {},
     "output_type": "execute_result"
    }
   ],
   "source": [
    "# method - sort is use for arrange element in ascending or descending order\n",
    "lis = [4,1,7,5,9,0]\n",
    "lis.sort()\n",
    "lis"
   ]
  },
  {
   "cell_type": "code",
   "execution_count": 12,
   "id": "9f2216ad",
   "metadata": {},
   "outputs": [
    {
     "data": {
      "text/plain": [
       "[9, 7, 5, 4, 1, 0]"
      ]
     },
     "execution_count": 12,
     "metadata": {},
     "output_type": "execute_result"
    }
   ],
   "source": [
    "# method - reverse \n",
    "lis.reverse()\n",
    "lis"
   ]
  },
  {
   "cell_type": "code",
   "execution_count": 13,
   "id": "ea9599d4",
   "metadata": {},
   "outputs": [
    {
     "data": {
      "text/plain": [
       "1"
      ]
     },
     "execution_count": 13,
     "metadata": {},
     "output_type": "execute_result"
    }
   ],
   "source": [
    "# method - count \n",
    "lis.count(4)"
   ]
  },
  {
   "cell_type": "code",
   "execution_count": 14,
   "id": "26abded7",
   "metadata": {},
   "outputs": [
    {
     "data": {
      "text/plain": [
       "[]"
      ]
     },
     "execution_count": 14,
     "metadata": {},
     "output_type": "execute_result"
    }
   ],
   "source": [
    "# method - clear is use to delete all elements from list\n",
    "lis.clear()\n",
    "lis"
   ]
  },
  {
   "cell_type": "code",
   "execution_count": 15,
   "id": "44cee12a",
   "metadata": {},
   "outputs": [
    {
     "data": {
      "text/plain": [
       "[3, 10, 17]"
      ]
     },
     "execution_count": 15,
     "metadata": {},
     "output_type": "execute_result"
    }
   ],
   "source": [
    "# ACCESSING ELEMENTS AFTER FIXED INTERVALS\n",
    "a = [0, 3, 5, 7, 9, 10, 11, 12, 15, 17, 19]\n",
    "a[1::4] #here we got the output alternately, because we accessed elements from index 1 to 4"
   ]
  },
  {
   "cell_type": "code",
   "execution_count": 16,
   "id": "6631a916",
   "metadata": {},
   "outputs": [
    {
     "data": {
      "text/plain": [
       "[19, 15, 11, 9, 5, 0]"
      ]
     },
     "execution_count": 16,
     "metadata": {},
     "output_type": "execute_result"
    }
   ],
   "source": [
    "# REVERSING THE LIST\n",
    "a = [0, 3, 5, 7, 9, 10, 11, 12, 15,17, 19]\n",
    "a[::-2]"
   ]
  },
  {
   "cell_type": "code",
   "execution_count": 17,
   "id": "25022a18",
   "metadata": {},
   "outputs": [
    {
     "data": {
      "text/plain": [
       "[5, 7, 9]"
      ]
     },
     "execution_count": 17,
     "metadata": {},
     "output_type": "execute_result"
    }
   ],
   "source": [
    "# SLICING OF LISTS\n",
    "a = [0, 3, 5, 7, 9, 10, 11, 12, 15, 17, 19]\n",
    "a[2:5] # here we got items from 2 to 4"
   ]
  },
  {
   "cell_type": "code",
   "execution_count": 18,
   "id": "c92261b4",
   "metadata": {},
   "outputs": [
    {
     "data": {
      "text/plain": [
       "[0, 3, 5, 7, 9, 10, 11]"
      ]
     },
     "execution_count": 18,
     "metadata": {},
     "output_type": "execute_result"
    }
   ],
   "source": [
    "a[:7] # here we got items from 0 to 6"
   ]
  },
  {
   "cell_type": "code",
   "execution_count": 19,
   "id": "a199a7de",
   "metadata": {},
   "outputs": [
    {
     "data": {
      "text/plain": [
       "[5, 7, 9, 10, 11, 12, 15, 17, 19]"
      ]
     },
     "execution_count": 19,
     "metadata": {},
     "output_type": "execute_result"
    }
   ],
   "source": [
    "a[2:] # here we get items from 2 onwards"
   ]
  },
  {
   "cell_type": "code",
   "execution_count": 20,
   "id": "926da7b6",
   "metadata": {},
   "outputs": [
    {
     "data": {
      "text/plain": [
       "['vaishnavi', 1.2, 7, 'Machine', 'Learning', 0.1]"
      ]
     },
     "execution_count": 20,
     "metadata": {},
     "output_type": "execute_result"
    }
   ],
   "source": [
    "# ADDITION OR CONCATENATION OF LISTS\n",
    "list1 = ['vaishnavi', 1.2, 7]\n",
    "list2 = ['Machine', 'Learning', 0.1]\n",
    "concatenated_list = list1+list2\n",
    "concatenated_list"
   ]
  },
  {
   "cell_type": "code",
   "execution_count": 21,
   "id": "e3166301",
   "metadata": {},
   "outputs": [],
   "source": [
    "# lists are mutable\n",
    "# we can modify the elements of lists. This is a major difference between tuples and lists\n",
    "# will see this as we go further"
   ]
  },
  {
   "cell_type": "code",
   "execution_count": 22,
   "id": "1127cc9b",
   "metadata": {},
   "outputs": [
    {
     "data": {
      "text/plain": [
       "list"
      ]
     },
     "execution_count": 22,
     "metadata": {},
     "output_type": "execute_result"
    }
   ],
   "source": [
    "# NESTING OF LISTS\n",
    "# LISTS CAN CONTAIN ONE OR MORE LISTS INSIDE THEM\n",
    "# THE TREE REPRESENTATION CAN BE USED TO ILLUSTRATE THE NESTING OF LIST\n",
    "# FOR EXAMPLE\n",
    "a = ['vaishnavi', [1, 2],[['data', 3], 5, 6], 'kites']\n",
    "type(a)"
   ]
  },
  {
   "cell_type": "code",
   "execution_count": 23,
   "id": "d58f2cdc",
   "metadata": {},
   "outputs": [
    {
     "data": {
      "text/plain": [
       "[['data', 3], 5, 6]"
      ]
     },
     "execution_count": 23,
     "metadata": {},
     "output_type": "execute_result"
    }
   ],
   "source": [
    "a[2]"
   ]
  },
  {
   "cell_type": "code",
   "execution_count": 24,
   "id": "82347bc8",
   "metadata": {},
   "outputs": [
    {
     "data": {
      "text/plain": [
       "5"
      ]
     },
     "execution_count": 24,
     "metadata": {},
     "output_type": "execute_result"
    }
   ],
   "source": [
    "a[2][1]"
   ]
  },
  {
   "cell_type": "code",
   "execution_count": 25,
   "id": "12bdf3f2",
   "metadata": {},
   "outputs": [
    {
     "data": {
      "text/plain": [
       "('vaishnavi', [2])"
      ]
     },
     "execution_count": 25,
     "metadata": {},
     "output_type": "execute_result"
    }
   ],
   "source": [
    "a[0],[2]"
   ]
  },
  {
   "cell_type": "code",
   "execution_count": 26,
   "id": "69ca92eb",
   "metadata": {},
   "outputs": [
    {
     "data": {
      "text/plain": [
       "['vaishnavi', [1, 2], [['data', 3], 5, 6], 'kites']"
      ]
     },
     "execution_count": 26,
     "metadata": {},
     "output_type": "execute_result"
    }
   ],
   "source": [
    "a"
   ]
  },
  {
   "cell_type": "code",
   "execution_count": 27,
   "id": "5df79b6d",
   "metadata": {},
   "outputs": [],
   "source": [
    "# LISTS ARE DYNAMIC BECAUSE THEY CAN ADD AND EXTEND MORE VALUES IN THEM, THEY CAN SHRINK DATA SAMPLES\n",
    "# AS WE DONT NEED TO CREATE NEW LISTS FOR ALL THE CHANGES."
   ]
  },
  {
   "cell_type": "code",
   "execution_count": 28,
   "id": "1d2d06df",
   "metadata": {},
   "outputs": [
    {
     "data": {
      "text/plain": [
       "list"
      ]
     },
     "execution_count": 28,
     "metadata": {},
     "output_type": "execute_result"
    }
   ],
   "source": [
    "# HETEROGENOUS NESTING\n",
    "# LIST CAN CONTAIN MULTIPLE TUPLES IN THEM AND VICE VERSA, FOR EXAMPLE\n",
    "a = [1, (2, 3), 4, ('vaishnavi') ]\n",
    "type(a)"
   ]
  },
  {
   "cell_type": "markdown",
   "id": "78327bb1",
   "metadata": {},
   "source": [
    "# TUPLES"
   ]
  },
  {
   "cell_type": "code",
   "execution_count": 41,
   "id": "6c0063a1",
   "metadata": {},
   "outputs": [],
   "source": [
    "# TUPLES ARE IMMUTABLE OBJECTS\n",
    "# AS WE DISCUSSED THAT EVERYTHING IN PYTHON IS AN OBJECT WHICH CONTAINS THREE BASIC PROPERTIES\n",
    "# 1. IDENTITY - COMPUTER MEMORY LOCATION WHERE THE OBJECT IS STORED\n",
    "# 2. TYPE - THIS IS THE DATA TYPE THAT GETS ATTACHED WHEN WE CREATE AN OBJECT LIKE STRING,FLOAT,\n",
    "# INTEGER, ETC.\n",
    "# 3. VALUE - THIS IS THE VALUE STORED IN THE OBJECT. FOR EXAMPLE a=1, the variable a has the value of 1"
   ]
  },
  {
   "cell_type": "code",
   "execution_count": 29,
   "id": "c6e61d72",
   "metadata": {},
   "outputs": [
    {
     "data": {
      "text/plain": [
       "tuple"
      ]
     },
     "execution_count": 29,
     "metadata": {},
     "output_type": "execute_result"
    }
   ],
   "source": [
    "# TUPLES ARE ENCLOSED IN PARENTHESES ()\n",
    "# IT CAN CONTAIN STRINGS, FLOAT, INTEGER\n",
    "a = (1, 2.5, 'abc')\n",
    "type(a)"
   ]
  },
  {
   "cell_type": "code",
   "execution_count": 30,
   "id": "97a9a6cb",
   "metadata": {},
   "outputs": [
    {
     "data": {
      "text/plain": [
       "tuple"
      ]
     },
     "execution_count": 30,
     "metadata": {},
     "output_type": "execute_result"
    }
   ],
   "source": [
    "a = 1, 2, 33\n",
    "type(a)"
   ]
  },
  {
   "cell_type": "code",
   "execution_count": 31,
   "id": "9daf8bdd",
   "metadata": {},
   "outputs": [
    {
     "data": {
      "text/plain": [
       "7"
      ]
     },
     "execution_count": 31,
     "metadata": {},
     "output_type": "execute_result"
    }
   ],
   "source": [
    "b =(1, 3, 5, 7)\n",
    "b[3]"
   ]
  },
  {
   "cell_type": "code",
   "execution_count": 32,
   "id": "b7c17207",
   "metadata": {},
   "outputs": [
    {
     "data": {
      "text/plain": [
       "4"
      ]
     },
     "execution_count": 32,
     "metadata": {},
     "output_type": "execute_result"
    }
   ],
   "source": [
    "len(b) # len function shows the number of objects present in the tuple"
   ]
  },
  {
   "cell_type": "code",
   "execution_count": 33,
   "id": "077d2738",
   "metadata": {},
   "outputs": [
    {
     "data": {
      "text/plain": [
       "7"
      ]
     },
     "execution_count": 33,
     "metadata": {},
     "output_type": "execute_result"
    }
   ],
   "source": [
    "b[3]"
   ]
  },
  {
   "cell_type": "code",
   "execution_count": 34,
   "id": "ce45b2fe",
   "metadata": {},
   "outputs": [
    {
     "data": {
      "text/plain": [
       "(2, 4, 6, 8, 0)"
      ]
     },
     "execution_count": 34,
     "metadata": {},
     "output_type": "execute_result"
    }
   ],
   "source": [
    "# ACCESSING ELEMENTS AFTER FIXED INTERVALS\n",
    "a = (1, 2, 3, 4, 5, 6, 7, 8, 9, 0)\n",
    "a[1::2] "
   ]
  },
  {
   "cell_type": "code",
   "execution_count": 35,
   "id": "1962996c",
   "metadata": {
    "scrolled": true
   },
   "outputs": [
    {
     "data": {
      "text/plain": [
       "(1, 3, 5, 7, 9)"
      ]
     },
     "execution_count": 35,
     "metadata": {},
     "output_type": "execute_result"
    }
   ],
   "source": [
    "a[0::2]"
   ]
  },
  {
   "cell_type": "code",
   "execution_count": 36,
   "id": "f1152a63",
   "metadata": {},
   "outputs": [
    {
     "data": {
      "text/plain": [
       "(0, 9, 8, 7, 6, 5, 4, 3, 2, 1)"
      ]
     },
     "execution_count": 36,
     "metadata": {},
     "output_type": "execute_result"
    }
   ],
   "source": [
    "# REVERSING THE TUPLE\n",
    "a = (1, 2, 3, 4, 5, 6, 7, 8, 9, 0)\n",
    "a[::-1]"
   ]
  },
  {
   "cell_type": "code",
   "execution_count": 37,
   "id": "bc51a0d5",
   "metadata": {},
   "outputs": [
    {
     "data": {
      "text/plain": [
       "(3, 8)"
      ]
     },
     "execution_count": 37,
     "metadata": {},
     "output_type": "execute_result"
    }
   ],
   "source": [
    "# SLICING OF TUPLE\n",
    "a = (1, 2, 3, 4, 5, 6, 7, 8, 9, 0)\n",
    "a[2::5]"
   ]
  },
  {
   "cell_type": "code",
   "execution_count": 38,
   "id": "b6c631b0",
   "metadata": {},
   "outputs": [
    {
     "data": {
      "text/plain": [
       "(1, 2, 3, 4, 5)"
      ]
     },
     "execution_count": 38,
     "metadata": {},
     "output_type": "execute_result"
    }
   ],
   "source": [
    "a[:5]"
   ]
  },
  {
   "cell_type": "code",
   "execution_count": 39,
   "id": "153594c3",
   "metadata": {},
   "outputs": [
    {
     "data": {
      "text/plain": [
       "(3, 4, 5, 6, 7, 8, 9, 0)"
      ]
     },
     "execution_count": 39,
     "metadata": {},
     "output_type": "execute_result"
    }
   ],
   "source": [
    "a[2:]"
   ]
  },
  {
   "cell_type": "code",
   "execution_count": 44,
   "id": "0f584b27",
   "metadata": {},
   "outputs": [
    {
     "data": {
      "text/plain": [
       "(1, 2, 3, 4, 5, 6, 7, 8)"
      ]
     },
     "execution_count": 44,
     "metadata": {},
     "output_type": "execute_result"
    }
   ],
   "source": [
    "# ADDITION OR CONCATENATION OF TUPLE\n",
    "a = (1, 2, 3, 4)\n",
    "b = (5, 6, 7, 8)\n",
    "concatenated_list = a + b\n",
    "concatenated_list"
   ]
  },
  {
   "cell_type": "code",
   "execution_count": 45,
   "id": "f7c7bea3",
   "metadata": {},
   "outputs": [
    {
     "ename": "TypeError",
     "evalue": "'tuple' object does not support item assignment",
     "output_type": "error",
     "traceback": [
      "\u001b[1;31m---------------------------------------------------------------------------\u001b[0m",
      "\u001b[1;31mTypeError\u001b[0m                                 Traceback (most recent call last)",
      "Input \u001b[1;32mIn [45]\u001b[0m, in \u001b[0;36m<cell line: 3>\u001b[1;34m()\u001b[0m\n\u001b[0;32m      1\u001b[0m \u001b[38;5;66;03m# AS WE SAY TUPLES ARE IMMUTABLE THAT MEANS WE CANNOT CHANGE THE VALUE OF ANY TUPLE, FOR EXAMPLE\u001b[39;00m\n\u001b[0;32m      2\u001b[0m a \u001b[38;5;241m=\u001b[39m (\u001b[38;5;241m1\u001b[39m, \u001b[38;5;241m2\u001b[39m, \u001b[38;5;241m3\u001b[39m, \u001b[38;5;241m4\u001b[39m, \u001b[38;5;124m'\u001b[39m\u001b[38;5;124mvaishnavi\u001b[39m\u001b[38;5;124m'\u001b[39m, \u001b[38;5;241m4.6\u001b[39m)\n\u001b[1;32m----> 3\u001b[0m a[\u001b[38;5;241m0\u001b[39m] \u001b[38;5;241m=\u001b[39m \u001b[38;5;124m'\u001b[39m\u001b[38;5;124mDATA SCIENTIST\u001b[39m\u001b[38;5;124m'\u001b[39m\n",
      "\u001b[1;31mTypeError\u001b[0m: 'tuple' object does not support item assignment"
     ]
    }
   ],
   "source": [
    "# AS WE SAY TUPLES ARE IMMUTABLE THAT MEANS WE CANNOT CHANGE THE VALUE OF ANY TUPLE, FOR EXAMPLE\n",
    "a = (1, 2, 3, 4, 'vaishnavi', 4.6)\n",
    "a[0] = 'DATA SCIENTIST'"
   ]
  },
  {
   "cell_type": "code",
   "execution_count": 46,
   "id": "06f814de",
   "metadata": {},
   "outputs": [
    {
     "data": {
      "text/plain": [
       "(1, 2, 3, 4, 'vaishnavi', 4.6, 'DATA SCIENTIST')"
      ]
     },
     "execution_count": 46,
     "metadata": {},
     "output_type": "execute_result"
    }
   ],
   "source": [
    "# NOW THE QUESTION IS HOW TO CHANGE THE VALUE THEN?\n",
    "# CREATE A NEW TUPLE\n",
    "b = ('DATA SCIENTIST',)\n",
    "A = a + b\n",
    "A"
   ]
  },
  {
   "cell_type": "code",
   "execution_count": 47,
   "id": "9f42af8e",
   "metadata": {},
   "outputs": [
    {
     "data": {
      "text/plain": [
       "2"
      ]
     },
     "execution_count": 47,
     "metadata": {},
     "output_type": "execute_result"
    }
   ],
   "source": [
    "# NESTING OF TUPLES\n",
    "a = (('enjoy'), 1, 2,(('ML', 3),'data'), 4, 5)\n",
    "a[2]"
   ]
  },
  {
   "cell_type": "code",
   "execution_count": 48,
   "id": "cdc3c34c",
   "metadata": {},
   "outputs": [
    {
     "data": {
      "text/plain": [
       "(('ML', 3), 'data')"
      ]
     },
     "execution_count": 48,
     "metadata": {},
     "output_type": "execute_result"
    }
   ],
   "source": [
    "a[3]"
   ]
  },
  {
   "cell_type": "code",
   "execution_count": 49,
   "id": "b1082f5d",
   "metadata": {},
   "outputs": [
    {
     "data": {
      "text/plain": [
       "('ML', 3)"
      ]
     },
     "execution_count": 49,
     "metadata": {},
     "output_type": "execute_result"
    }
   ],
   "source": [
    "a[3][0]"
   ]
  },
  {
   "cell_type": "code",
   "execution_count": 50,
   "id": "d16160be",
   "metadata": {},
   "outputs": [],
   "source": [
    "# TUPLES ARE STATIC\n",
    "# AS TUPLES ARE IMMUTABLE WE NEED TO CREATE ANOTHER TUPLE TO CHANGE, ADD MORE VALUES IN THEM"
   ]
  },
  {
   "cell_type": "markdown",
   "id": "d5124d62",
   "metadata": {},
   "source": [
    "# SET"
   ]
  },
  {
   "cell_type": "code",
   "execution_count": 51,
   "id": "f9c3723d",
   "metadata": {},
   "outputs": [],
   "source": [
    "# SETS ARE DATA STRUCTURE USED TO STORE MULTIPLE DATA TYPES TOGETHER.UNLIKE LISTS, TUPLES AND SETS ARE\n",
    "# UNORDERED, MEANING THEY DO NOT MAINTAIN THE POSITION OR INDEX OF THE ELEMENTS THEY CONTAIN.\n",
    "# EVERY ELEMENT IN A SET IS UNIQUE AND DUPLICATE VALUES CANNOT BE STORED.\n",
    "# SETS ARE DEFINED USING CURLY BRACKETS."
   ]
  },
  {
   "cell_type": "code",
   "execution_count": 52,
   "id": "f4cbc6c2",
   "metadata": {},
   "outputs": [
    {
     "data": {
      "text/plain": [
       "set"
      ]
     },
     "execution_count": 52,
     "metadata": {},
     "output_type": "execute_result"
    }
   ],
   "source": [
    "a = {1, 2, 3, 4}\n",
    "type (a)"
   ]
  },
  {
   "cell_type": "code",
   "execution_count": 53,
   "id": "a260c833",
   "metadata": {},
   "outputs": [
    {
     "data": {
      "text/plain": [
       "{1, 2, 3, 4}"
      ]
     },
     "execution_count": 53,
     "metadata": {},
     "output_type": "execute_result"
    }
   ],
   "source": [
    "a"
   ]
  },
  {
   "cell_type": "code",
   "execution_count": 54,
   "id": "dd1bf423",
   "metadata": {},
   "outputs": [
    {
     "data": {
      "text/plain": [
       "{(5, 6), 1, 2, 3, 4}"
      ]
     },
     "execution_count": 54,
     "metadata": {},
     "output_type": "execute_result"
    }
   ],
   "source": [
    "a = {1, 2, 3, 4, (5, 6)}\n",
    "a"
   ]
  },
  {
   "cell_type": "code",
   "execution_count": 55,
   "id": "ec61a775",
   "metadata": {},
   "outputs": [
    {
     "data": {
      "text/plain": [
       "{1, 2, 3, 4}"
      ]
     },
     "execution_count": 55,
     "metadata": {},
     "output_type": "execute_result"
    }
   ],
   "source": [
    "# CONVERTIING LIST OR TUPLES INTO SETS\n",
    "a = (1, 2, 3, 4)\n",
    "set(a) # here we created tuple as set "
   ]
  },
  {
   "cell_type": "code",
   "execution_count": 56,
   "id": "84b1b3db",
   "metadata": {},
   "outputs": [
    {
     "data": {
      "text/plain": [
       "{1, 2, 3, 4}"
      ]
     },
     "execution_count": 56,
     "metadata": {},
     "output_type": "execute_result"
    }
   ],
   "source": [
    "b = [1, 2, 3, 4,]\n",
    "set(b) # here list got converted into set"
   ]
  },
  {
   "cell_type": "code",
   "execution_count": 57,
   "id": "1a62bb69",
   "metadata": {},
   "outputs": [
    {
     "data": {
      "text/plain": [
       "{1, 2}"
      ]
     },
     "execution_count": 57,
     "metadata": {},
     "output_type": "execute_result"
    }
   ],
   "source": [
    "c = [1, 1, 1, 2]\n",
    "set(c)"
   ]
  },
  {
   "cell_type": "code",
   "execution_count": 58,
   "id": "a98c4e2f",
   "metadata": {},
   "outputs": [
    {
     "data": {
      "text/plain": [
       "{1, 2, 3, 4}"
      ]
     },
     "execution_count": 58,
     "metadata": {},
     "output_type": "execute_result"
    }
   ],
   "source": [
    "a = (2, 4, 3 ,1)\n",
    "set(a)"
   ]
  },
  {
   "cell_type": "code",
   "execution_count": 59,
   "id": "04b91958",
   "metadata": {},
   "outputs": [
    {
     "data": {
      "text/plain": [
       "{1, 5, 7, 9}"
      ]
     },
     "execution_count": 59,
     "metadata": {},
     "output_type": "execute_result"
    }
   ],
   "source": [
    "b = [1, 7, 5, 9]\n",
    "set(b)"
   ]
  },
  {
   "cell_type": "code",
   "execution_count": 60,
   "id": "0c6e3360",
   "metadata": {},
   "outputs": [],
   "source": [
    "# THIS PROCESS OF CONVERTING ONE DATA TYPE TO ANOTHER IS KNOWN AS TYPE CASTING."
   ]
  },
  {
   "cell_type": "code",
   "execution_count": 61,
   "id": "0e926fdb",
   "metadata": {},
   "outputs": [
    {
     "ename": "TypeError",
     "evalue": "unhashable type: 'set'",
     "output_type": "error",
     "traceback": [
      "\u001b[1;31m---------------------------------------------------------------------------\u001b[0m",
      "\u001b[1;31mTypeError\u001b[0m                                 Traceback (most recent call last)",
      "Input \u001b[1;32mIn [61]\u001b[0m, in \u001b[0;36m<cell line: 2>\u001b[1;34m()\u001b[0m\n\u001b[0;32m      1\u001b[0m \u001b[38;5;66;03m# NESTING OF SETS\u001b[39;00m\n\u001b[1;32m----> 2\u001b[0m a \u001b[38;5;241m=\u001b[39m {\u001b[38;5;241m1\u001b[39m, \u001b[38;5;241m2\u001b[39m, \u001b[38;5;241m3\u001b[39m, (\u001b[38;5;124m'\u001b[39m\u001b[38;5;124mabc\u001b[39m\u001b[38;5;124m'\u001b[39m), {\u001b[38;5;241m9.8\u001b[39m}}\n\u001b[0;32m      3\u001b[0m a\n",
      "\u001b[1;31mTypeError\u001b[0m: unhashable type: 'set'"
     ]
    }
   ],
   "source": [
    "# NESTING OF SETS\n",
    "a = {1, 2, 3, ('abc'), {9.8}}\n",
    "a       #ASK"
   ]
  },
  {
   "cell_type": "code",
   "execution_count": 62,
   "id": "524e9c35",
   "metadata": {},
   "outputs": [
    {
     "data": {
      "text/plain": [
       "True"
      ]
     },
     "execution_count": 62,
     "metadata": {},
     "output_type": "execute_result"
    }
   ],
   "source": [
    "# HOW TO ACCESS ELEMENTS FROM A SET\n",
    "a = {'a', 'b', 'c', 'd', 'e', 'f', 'g', 'h'}\n",
    "'f' in a\n",
    "# SETS DO NOT CONTAIN INFORMATION ABOUT POSITIONS, SO WE CANNOT ACCESS ELEMENTS USING THE INDEX VALUES\n",
    "# BUT WE SURELY CAN CHECK WHETHER THE GIVEN ELEMENT IS PRESENT IN A GIVEN SET OR NOT."
   ]
  },
  {
   "cell_type": "code",
   "execution_count": 63,
   "id": "9b9e2739",
   "metadata": {},
   "outputs": [],
   "source": [
    "# HOW TO ADD ELEMENTS IN A SET?\n",
    "# 1. SINGLE ELEMENT 2. MULTIPLE ELEMENTS"
   ]
  },
  {
   "cell_type": "code",
   "execution_count": 64,
   "id": "6b4aeec1",
   "metadata": {},
   "outputs": [],
   "source": [
    "# 1. SINGLE ELEMENT\n",
    "a = {'a', 'b', 'c', 'd'}\n",
    "a.add(4) "
   ]
  },
  {
   "cell_type": "code",
   "execution_count": 65,
   "id": "70117134",
   "metadata": {},
   "outputs": [
    {
     "data": {
      "text/plain": [
       "{4, 'a', 'b', 'c', 'd'}"
      ]
     },
     "execution_count": 65,
     "metadata": {},
     "output_type": "execute_result"
    }
   ],
   "source": [
    "a # this is in case if we want to add single element"
   ]
  },
  {
   "cell_type": "code",
   "execution_count": 66,
   "id": "d830db1c",
   "metadata": {},
   "outputs": [
    {
     "data": {
      "text/plain": [
       "{1, 2, 3, 4, 'a', 'b', 'c', 'd'}"
      ]
     },
     "execution_count": 66,
     "metadata": {},
     "output_type": "execute_result"
    }
   ],
   "source": [
    "# 2. MULTIPLE ELEMENTS\n",
    "a = {4, 'a', 'b', 'c', 'd'}\n",
    "b = {3, 2, 1}\n",
    "a.update(b)\n",
    "a\n",
    "# WE CAN CREATE ANOTHER SET AND SIMPLY USE.update() FUNCTION"
   ]
  },
  {
   "cell_type": "code",
   "execution_count": 67,
   "id": "f87a0ab6",
   "metadata": {},
   "outputs": [
    {
     "data": {
      "text/plain": [
       "{1, 2, 3, 4, 5}"
      ]
     },
     "execution_count": 67,
     "metadata": {},
     "output_type": "execute_result"
    }
   ],
   "source": [
    "# REMOVING AN ELEMENT FROM A SET\n",
    "a = {1, 2, 3, 4, 5, 6}\n",
    "a.remove(6)\n",
    "a # or a different method is dicard()"
   ]
  },
  {
   "cell_type": "code",
   "execution_count": 68,
   "id": "853c9e2c",
   "metadata": {},
   "outputs": [
    {
     "data": {
      "text/plain": [
       "{1, 2, 3, 4, 6}"
      ]
     },
     "execution_count": 68,
     "metadata": {},
     "output_type": "execute_result"
    }
   ],
   "source": [
    "a = {1, 2, 3, 4, 5, 6}\n",
    "a.discard(5)\n",
    "a"
   ]
  },
  {
   "cell_type": "code",
   "execution_count": 69,
   "id": "7adc908c",
   "metadata": {},
   "outputs": [
    {
     "data": {
      "text/plain": [
       "6"
      ]
     },
     "execution_count": 69,
     "metadata": {},
     "output_type": "execute_result"
    }
   ],
   "source": [
    "# HOW TO FINND LENGTH OF A set\n",
    "a = {1, 2, 3, 4, 5, 6}\n",
    "len(a)"
   ]
  },
  {
   "cell_type": "code",
   "execution_count": 70,
   "id": "2dff46e6",
   "metadata": {},
   "outputs": [],
   "source": [
    "# MATHEMATICAL OPERATIONS OF SETS IN PYTHON\n",
    "a = {1, 2, 3, 4, 5 ,6, 7, 8, 9, 0, 11}\n",
    "b = {1, 3, 4, 5, 7}\n",
    "# ASK"
   ]
  },
  {
   "cell_type": "code",
   "execution_count": 71,
   "id": "db22889e",
   "metadata": {},
   "outputs": [
    {
     "data": {
      "text/plain": [
       "{1, 2, 3, 4, 6, 7, 8}"
      ]
     },
     "execution_count": 71,
     "metadata": {},
     "output_type": "execute_result"
    }
   ],
   "source": [
    "# UNION\n",
    "a = {1, 2, 3, 4}\n",
    "b = {6, 7, 8, 2}\n",
    "a|b"
   ]
  },
  {
   "cell_type": "code",
   "execution_count": 72,
   "id": "7de04513",
   "metadata": {},
   "outputs": [
    {
     "data": {
      "text/plain": [
       "{1, 2, 3, 4, 6, 7, 8}"
      ]
     },
     "execution_count": 72,
     "metadata": {},
     "output_type": "execute_result"
    }
   ],
   "source": [
    "a.union(b) # we can also use .union() operation"
   ]
  },
  {
   "cell_type": "code",
   "execution_count": 73,
   "id": "e2e17d1f",
   "metadata": {},
   "outputs": [
    {
     "data": {
      "text/plain": [
       "{1, 2, 3, 4, 6, 7, 8, 'a', 'b', 'c'}"
      ]
     },
     "execution_count": 73,
     "metadata": {},
     "output_type": "execute_result"
    }
   ],
   "source": [
    "a = {1, 2, 3, 4}\n",
    "b = {6, 7, 8, 2}\n",
    "c = {'a', 'b', 'c', 2}\n",
    "d = a.union(a, b, c)\n",
    "d"
   ]
  },
  {
   "cell_type": "code",
   "execution_count": 74,
   "id": "bd6e7986",
   "metadata": {},
   "outputs": [
    {
     "data": {
      "text/plain": [
       "{2}"
      ]
     },
     "execution_count": 74,
     "metadata": {},
     "output_type": "execute_result"
    }
   ],
   "source": [
    "# INTERSECTION\n",
    "a = {1, 2, 3, 4}\n",
    "b = {6, 7, 8, 2}\n",
    "a&b"
   ]
  },
  {
   "cell_type": "code",
   "execution_count": 75,
   "id": "e0a74257",
   "metadata": {},
   "outputs": [
    {
     "data": {
      "text/plain": [
       "{2}"
      ]
     },
     "execution_count": 75,
     "metadata": {},
     "output_type": "execute_result"
    }
   ],
   "source": [
    "a.intersection(b)"
   ]
  },
  {
   "cell_type": "code",
   "execution_count": 76,
   "id": "9eb1ebef",
   "metadata": {},
   "outputs": [
    {
     "data": {
      "text/plain": [
       "set()"
      ]
     },
     "execution_count": 76,
     "metadata": {},
     "output_type": "execute_result"
    }
   ],
   "source": [
    "c = {'a', 'b'}\n",
    "a.intersection(a, b)\n",
    "set()\n",
    "#  if there are no common elements in set it will give empty set() as an output "
   ]
  },
  {
   "cell_type": "code",
   "execution_count": 77,
   "id": "a07b5e31",
   "metadata": {},
   "outputs": [
    {
     "data": {
      "text/plain": [
       "{1, 3, 4}"
      ]
     },
     "execution_count": 77,
     "metadata": {},
     "output_type": "execute_result"
    }
   ],
   "source": [
    "# SET DIFFERENCE\n",
    "a = {1, 2, 3, 4}\n",
    "b = {6, 7, 8, 2}\n",
    "a-b\n",
    "# if we subtract a and b the output would be a new set with elements unique to set a."
   ]
  },
  {
   "cell_type": "code",
   "execution_count": 78,
   "id": "a01e1188",
   "metadata": {},
   "outputs": [
    {
     "data": {
      "text/plain": [
       "True"
      ]
     },
     "execution_count": 78,
     "metadata": {},
     "output_type": "execute_result"
    }
   ],
   "source": [
    "# CHECKING IF ONE SET IS A SUBSET OF ANOTHER\n",
    "a = {1, 2, 3, 4}\n",
    "b = {1, 2}\n",
    "b.issubset(a)"
   ]
  },
  {
   "cell_type": "code",
   "execution_count": 79,
   "id": "4754b9fd",
   "metadata": {},
   "outputs": [
    {
     "data": {
      "text/plain": [
       "False"
      ]
     },
     "execution_count": 79,
     "metadata": {},
     "output_type": "execute_result"
    }
   ],
   "source": [
    "a = {1, 2, 3, 4}\n",
    "b = {6, 7, 8, 2}\n",
    "a.issubset(b)"
   ]
  },
  {
   "cell_type": "code",
   "execution_count": 80,
   "id": "4ff52a86",
   "metadata": {},
   "outputs": [],
   "source": [
    "# COPY METHOD IN SET\n",
    "a = {1, 2, 3, 4}\n",
    "b = a\n",
    "b.remove(4)"
   ]
  },
  {
   "cell_type": "code",
   "execution_count": 81,
   "id": "7ec22548",
   "metadata": {},
   "outputs": [
    {
     "data": {
      "text/plain": [
       "{1, 2, 3}"
      ]
     },
     "execution_count": 81,
     "metadata": {},
     "output_type": "execute_result"
    }
   ],
   "source": [
    "b"
   ]
  },
  {
   "cell_type": "code",
   "execution_count": 82,
   "id": "56192e81",
   "metadata": {},
   "outputs": [
    {
     "data": {
      "text/plain": [
       "{1, 2, 3}"
      ]
     },
     "execution_count": 82,
     "metadata": {},
     "output_type": "execute_result"
    }
   ],
   "source": [
    "a"
   ]
  },
  {
   "cell_type": "code",
   "execution_count": 83,
   "id": "2b05ab7a",
   "metadata": {},
   "outputs": [],
   "source": [
    "a = {1, 2, 3, 4}\n",
    "b = {6, 7, 8, 2}\n",
    "b = a.copy()\n",
    "b.remove(4)\n",
    "# to copy the set we can use .copy() operation to make a copy of the original set and then perform the\n",
    "# operations"
   ]
  },
  {
   "cell_type": "code",
   "execution_count": 84,
   "id": "8ff59e6d",
   "metadata": {},
   "outputs": [
    {
     "data": {
      "text/plain": [
       "{1, 2, 3}"
      ]
     },
     "execution_count": 84,
     "metadata": {},
     "output_type": "execute_result"
    }
   ],
   "source": [
    "b"
   ]
  },
  {
   "cell_type": "code",
   "execution_count": 85,
   "id": "f360045a",
   "metadata": {},
   "outputs": [
    {
     "data": {
      "text/plain": [
       "{1, 2, 3, 4}"
      ]
     },
     "execution_count": 85,
     "metadata": {},
     "output_type": "execute_result"
    }
   ],
   "source": [
    "a"
   ]
  },
  {
   "cell_type": "code",
   "execution_count": 86,
   "id": "f92dfcc3",
   "metadata": {},
   "outputs": [
    {
     "data": {
      "text/plain": [
       "1"
      ]
     },
     "execution_count": 86,
     "metadata": {},
     "output_type": "execute_result"
    }
   ],
   "source": [
    "# MISCELLANEOUS\n",
    "a = {1, 2, 3, 4, 5, 6}\n",
    "min(a)"
   ]
  },
  {
   "cell_type": "code",
   "execution_count": 87,
   "id": "c09c5459",
   "metadata": {},
   "outputs": [
    {
     "data": {
      "text/plain": [
       "6"
      ]
     },
     "execution_count": 87,
     "metadata": {},
     "output_type": "execute_result"
    }
   ],
   "source": [
    "max(a)"
   ]
  },
  {
   "cell_type": "code",
   "execution_count": 88,
   "id": "87b1d6f1",
   "metadata": {},
   "outputs": [
    {
     "data": {
      "text/plain": [
       "21"
      ]
     },
     "execution_count": 88,
     "metadata": {},
     "output_type": "execute_result"
    }
   ],
   "source": [
    "sum(a)"
   ]
  },
  {
   "cell_type": "code",
   "execution_count": 89,
   "id": "f944f020",
   "metadata": {},
   "outputs": [],
   "source": [
    "a = {1, 2, 3,4}\n",
    "b = {2, 3, 4, 5}\n",
    "a.intersection_update(b)"
   ]
  },
  {
   "cell_type": "code",
   "execution_count": 90,
   "id": "264f630c",
   "metadata": {},
   "outputs": [
    {
     "data": {
      "text/plain": [
       "{2, 3, 4}"
      ]
     },
     "execution_count": 90,
     "metadata": {},
     "output_type": "execute_result"
    }
   ],
   "source": [
    "a"
   ]
  },
  {
   "cell_type": "code",
   "execution_count": 91,
   "id": "2f0fdcb0",
   "metadata": {},
   "outputs": [
    {
     "data": {
      "text/plain": [
       "{1, 6}"
      ]
     },
     "execution_count": 91,
     "metadata": {},
     "output_type": "execute_result"
    }
   ],
   "source": [
    "# difference update method keep the values present in set 1 which is not present in set2\n",
    "a = {1, 2, 3, 4, 5, 6}\n",
    "a.difference_update(b)\n",
    "a"
   ]
  },
  {
   "cell_type": "markdown",
   "id": "3f645c8a",
   "metadata": {},
   "source": [
    "# DICTIONARIES"
   ]
  },
  {
   "cell_type": "code",
   "execution_count": 92,
   "id": "90f58180",
   "metadata": {},
   "outputs": [],
   "source": [
    "# A DICTIONARY IS A TYPE OF COLLECTION IN PYTHON THAT STORES MULTIPLE TYPES OF DATA TYPES PRESENT.\n",
    "# IN  LIST WE HAVE INTEGER INDEXES AS ADDRESSES FOR THE VARIOUS ELEMENTS PRESENT IN LIST.\n",
    "# IN DICTIONARIES INSTEAD OF INETEGER INDEXES WE HAVE STRINGS.\n",
    "# A DICTIONARY CONTAINS THE ELEMENTS IN THE FORM OF \"KEYS\" AND \"VALUES\" PAIRS.\n",
    "# WE USE CURLY BRACKETS AS WE USE THEM IN SETS BUT IN DICTIONARIES WE USE COLON. KEYS MUST BE \n",
    "# IMMUTABLE AND UNIQUE, WHICH MEANS WE CANNOT USE TWO KEYS WITH THE SAME NAME.VALUES CAN BE MUTABLE,\n",
    "# IMMUTABLE OR EVEN DUPLICATES. WE CAN STORE LISTS, TUPLES, SETS AS THE VALUES IN DICTIONARY AND THE \n",
    "# PAIR OF KEYS AND VALUES WOULD BE SEPERATED BY A COMMA(,)....FOR EXAMPLE"
   ]
  },
  {
   "cell_type": "code",
   "execution_count": 93,
   "id": "53adabab",
   "metadata": {},
   "outputs": [
    {
     "data": {
      "text/plain": [
       "dict"
      ]
     },
     "execution_count": 93,
     "metadata": {},
     "output_type": "execute_result"
    }
   ],
   "source": [
    "a = {'key1': [1,2,3], 'key2': ('a','b','c'), 'key3':{7.2}}\n",
    "type(a)"
   ]
  },
  {
   "cell_type": "code",
   "execution_count": 94,
   "id": "6d624b48",
   "metadata": {},
   "outputs": [
    {
     "data": {
      "text/plain": [
       "dict"
      ]
     },
     "execution_count": 94,
     "metadata": {},
     "output_type": "execute_result"
    }
   ],
   "source": [
    "b ={1:1.2, 'abc': 2928}\n",
    "type(a)"
   ]
  },
  {
   "cell_type": "code",
   "execution_count": 95,
   "id": "5edb0f07",
   "metadata": {},
   "outputs": [],
   "source": [
    "# merge two dictionaries \n",
    "# using upaate method\n",
    "a.update(b)\n"
   ]
  },
  {
   "cell_type": "code",
   "execution_count": 96,
   "id": "d07c32fa",
   "metadata": {},
   "outputs": [],
   "source": [
    "# HOW TO ACCESS ELEMENTS FROM DICTIONARY?\n",
    "b ={1:1.2, 'abc': 2928}\n",
    "b['key5'] = (9699)"
   ]
  },
  {
   "cell_type": "code",
   "execution_count": 97,
   "id": "5b46f564",
   "metadata": {},
   "outputs": [
    {
     "data": {
      "text/plain": [
       "{'abc': 2928, 'key5': 9699}"
      ]
     },
     "execution_count": 97,
     "metadata": {},
     "output_type": "execute_result"
    }
   ],
   "source": [
    "# Remove key-value from dictionaries\n",
    "# use pop or popitem method\n",
    "\n",
    "b.pop(1)\n",
    "b"
   ]
  },
  {
   "cell_type": "code",
   "execution_count": 98,
   "id": "06ac944d",
   "metadata": {},
   "outputs": [],
   "source": [
    "# HOW TO CHANGE THE VALUE OF KEY IN DICTIONARY?\n",
    "c = {1: 1.2, 'abc': 2928, 'key5': 9699}\n",
    "c['key5'] = {'ball'}"
   ]
  },
  {
   "cell_type": "code",
   "execution_count": 99,
   "id": "0e1492bd",
   "metadata": {},
   "outputs": [
    {
     "data": {
      "text/plain": [
       "{1: 1.2, 'abc': 2928, 'key5': {'ball'}}"
      ]
     },
     "execution_count": 99,
     "metadata": {},
     "output_type": "execute_result"
    }
   ],
   "source": [
    "c"
   ]
  },
  {
   "cell_type": "code",
   "execution_count": 100,
   "id": "95a73c69",
   "metadata": {},
   "outputs": [],
   "source": [
    "# AS KEYS ARE IMMUTABLE, WE CANNOT CHANGE KEY IN A GIVEN DICTIONARY,FOR THAT WE NEED TO ADD A NEW KEY\n",
    "# WITH THE NEW NAME CONTAINING THE SAME VALUES AS THE OLDER KEY. LATER WE CAN DELETE THE OLDER KEY."
   ]
  },
  {
   "cell_type": "code",
   "execution_count": 101,
   "id": "dbe0e904",
   "metadata": {},
   "outputs": [
    {
     "data": {
      "text/plain": [
       "{1: 1.2, 'abc': 2928}"
      ]
     },
     "execution_count": 101,
     "metadata": {},
     "output_type": "execute_result"
    }
   ],
   "source": [
    "# REMOVING A KEY OR ELEMENT FROM DICTIONARY\n",
    "c = {1: 1.2, 'abc': 2928, 'key5': 9699}\n",
    "del c['key5']\n",
    "c\n",
    "# we can simply use del operation to remove a key from dictionary"
   ]
  },
  {
   "cell_type": "code",
   "execution_count": 102,
   "id": "c4a8dc34",
   "metadata": {},
   "outputs": [
    {
     "data": {
      "text/plain": [
       "dict_keys(['key1', 'key2', 'key3'])"
      ]
     },
     "execution_count": 102,
     "metadata": {},
     "output_type": "execute_result"
    }
   ],
   "source": [
    "# GET ALL KEYS AND VALUES FROM DICTIONARY\n",
    "a = {'key1': [1,2,3], 'key2': ('a','b','c'), 'key3':{7.2}}\n",
    "a.keys()"
   ]
  },
  {
   "cell_type": "code",
   "execution_count": 103,
   "id": "828557a5",
   "metadata": {},
   "outputs": [
    {
     "data": {
      "text/plain": [
       "dict_values([[1, 2, 3], ('a', 'b', 'c'), {7.2}])"
      ]
     },
     "execution_count": 103,
     "metadata": {},
     "output_type": "execute_result"
    }
   ],
   "source": [
    "a.values()"
   ]
  },
  {
   "cell_type": "code",
   "execution_count": 104,
   "id": "28e8b2c0",
   "metadata": {},
   "outputs": [],
   "source": [
    "# 'fromkeys' method in python dictionary\n",
    "# fromkeys method FORMS A NEW DICTIONARY WITH THE DEFAULT VALUES FOR ALL THE KEYS MENTIONED. IF WE DO\n",
    "# NOT DEFINE THE VALUES ALL VALUES WILL BE ASSIGNED TO NONE"
   ]
  },
  {
   "cell_type": "code",
   "execution_count": 105,
   "id": "ebc4c7d2",
   "metadata": {},
   "outputs": [
    {
     "data": {
      "text/plain": [
       "{7: 'data science', 11: 'data science'}"
      ]
     },
     "execution_count": 105,
     "metadata": {},
     "output_type": "execute_result"
    }
   ],
   "source": [
    "a = dict.fromkeys([7,11], 'data science')\n",
    "a"
   ]
  },
  {
   "cell_type": "code",
   "execution_count": 106,
   "id": "627e1660",
   "metadata": {},
   "outputs": [
    {
     "data": {
      "text/plain": [
       "{7: None, 11: None}"
      ]
     },
     "execution_count": 106,
     "metadata": {},
     "output_type": "execute_result"
    }
   ],
   "source": [
    "a = dict.fromkeys([7,11])\n",
    "a"
   ]
  },
  {
   "cell_type": "code",
   "execution_count": 107,
   "id": "0e09be65",
   "metadata": {},
   "outputs": [],
   "source": [
    "a = dict.fromkeys('data science')"
   ]
  },
  {
   "cell_type": "code",
   "execution_count": 108,
   "id": "c62c7579",
   "metadata": {},
   "outputs": [
    {
     "data": {
      "text/plain": [
       "{'d': None,\n",
       " 'a': None,\n",
       " 't': None,\n",
       " ' ': None,\n",
       " 's': None,\n",
       " 'c': None,\n",
       " 'i': None,\n",
       " 'e': None,\n",
       " 'n': None}"
      ]
     },
     "execution_count": 108,
     "metadata": {},
     "output_type": "execute_result"
    }
   ],
   "source": [
    "a"
   ]
  },
  {
   "cell_type": "code",
   "execution_count": 109,
   "id": "a4ee6e83",
   "metadata": {},
   "outputs": [],
   "source": [
    "# NESTING OF PYTHON DICTIONARIES\n",
    "# WE CAN STORE A NEW DICTIONARY AS A VALUE INSIDE A KEY. FOR EXAMPLE"
   ]
  },
  {
   "cell_type": "code",
   "execution_count": 110,
   "id": "500b852a",
   "metadata": {},
   "outputs": [
    {
     "data": {
      "text/plain": [
       "list"
      ]
     },
     "execution_count": 110,
     "metadata": {},
     "output_type": "execute_result"
    }
   ],
   "source": [
    "a = {'key1':[1,2,3], 'key2':{'data science'}, 'key3':{2.5: 'ML'},'key4':('abc'),'key5':(1, 'a'),'key6': 1}\n",
    "type(a['key1'])"
   ]
  },
  {
   "cell_type": "code",
   "execution_count": 111,
   "id": "cf911ee4",
   "metadata": {},
   "outputs": [
    {
     "data": {
      "text/plain": [
       "set"
      ]
     },
     "execution_count": 111,
     "metadata": {},
     "output_type": "execute_result"
    }
   ],
   "source": [
    "type(a['key2'])"
   ]
  },
  {
   "cell_type": "code",
   "execution_count": 112,
   "id": "b440906d",
   "metadata": {},
   "outputs": [
    {
     "data": {
      "text/plain": [
       "dict"
      ]
     },
     "execution_count": 112,
     "metadata": {},
     "output_type": "execute_result"
    }
   ],
   "source": [
    "type(a['key3'])"
   ]
  },
  {
   "cell_type": "code",
   "execution_count": 113,
   "id": "0469e5d3",
   "metadata": {},
   "outputs": [
    {
     "data": {
      "text/plain": [
       "str"
      ]
     },
     "execution_count": 113,
     "metadata": {},
     "output_type": "execute_result"
    }
   ],
   "source": [
    "type(a['key4'])"
   ]
  },
  {
   "cell_type": "code",
   "execution_count": 114,
   "id": "94190e90",
   "metadata": {},
   "outputs": [
    {
     "data": {
      "text/plain": [
       "tuple"
      ]
     },
     "execution_count": 114,
     "metadata": {},
     "output_type": "execute_result"
    }
   ],
   "source": [
    "type(a['key5'])"
   ]
  },
  {
   "cell_type": "code",
   "execution_count": 115,
   "id": "7d9a6722",
   "metadata": {},
   "outputs": [
    {
     "data": {
      "text/plain": [
       "int"
      ]
     },
     "execution_count": 115,
     "metadata": {},
     "output_type": "execute_result"
    }
   ],
   "source": [
    "type(a['key6'])"
   ]
  },
  {
   "cell_type": "markdown",
   "id": "4197d4a5",
   "metadata": {},
   "source": [
    "## String"
   ]
  },
  {
   "cell_type": "code",
   "execution_count": 116,
   "id": "8c57051c",
   "metadata": {},
   "outputs": [],
   "source": [
    "# string is a sequence of characters enclosed within either single quotes (') or double quotes (\").\n",
    "# Strings are used to represent text data and are one of the fundamental data types in Python.\n"
   ]
  },
  {
   "cell_type": "code",
   "execution_count": 117,
   "id": "4c1d16bc",
   "metadata": {},
   "outputs": [
    {
     "data": {
      "text/plain": [
       "'This is a single-quoted string.'"
      ]
     },
     "execution_count": 117,
     "metadata": {},
     "output_type": "execute_result"
    }
   ],
   "source": [
    "# You can create strings by enclosing text in either single or double quotes. For example:\n",
    "single_quoted_string = 'This is a single-quoted string.'\n",
    "double_quoted_string = \"This is a double-quoted string.\"\n",
    "\n",
    "single_quoted_string"
   ]
  },
  {
   "cell_type": "code",
   "execution_count": 118,
   "id": "b0a7c8c3",
   "metadata": {},
   "outputs": [
    {
     "name": "stdout",
     "output_type": "stream",
     "text": [
      "HELLO WORLD\n",
      "hello world\n",
      "Hello World\n",
      "['hello', 'world']\n",
      "Good world\n"
     ]
    }
   ],
   "source": [
    "#Python provides a wide range of methods for working with strings. Some common string methods include:\n",
    "\n",
    "# len(string): Returns the length of the string.\n",
    "# string.upper(): Converts the string to uppercase.\n",
    "# string.lower(): Converts the string to lowercase.\n",
    "# string.strip(): Removes leading and trailing whitespace.\n",
    "# string.split(): Splits the string into a list of substrings based on a delimiter.\n",
    "# string.replace(old, new): Replaces occurrences of old with new.\n",
    "# string.find(substring): Returns the index of the first occurrence of substring.\n",
    "\n",
    "st = \"hello world\"\n",
    "print(st.upper())\n",
    "print(st.lower())\n",
    "print(st.title())\n",
    "print(st.split())\n",
    "print(st.replace(\"hello\",\"Good\"))"
   ]
  },
  {
   "cell_type": "code",
   "execution_count": 119,
   "id": "981ff087",
   "metadata": {},
   "outputs": [
    {
     "name": "stdout",
     "output_type": "stream",
     "text": [
      "Hello, world!\n"
     ]
    }
   ],
   "source": [
    "# String Concatenation:\n",
    "# You can concatenate strings using the + operator:\n",
    "str1 = \"Hello, \"\n",
    "str2 = \"world!\"\n",
    "result = str1 + str2\n",
    "print(result)"
   ]
  },
  {
   "cell_type": "code",
   "execution_count": 120,
   "id": "4616ef2a",
   "metadata": {},
   "outputs": [
    {
     "name": "stdout",
     "output_type": "stream",
     "text": [
      "P\n",
      "yth\n"
     ]
    }
   ],
   "source": [
    "# String Indexing and Slicing:\n",
    "# You can access individual characters in a string by their index, and you can also extract substrings using slicing.\n",
    "# In Python, indexing is zero-based.\n",
    "\n",
    "my_string = \"Python\"\n",
    "first_char = my_string[0]  # Access the first character ('P')\n",
    "substring = my_string[1:4]  # Get a substring ('yth')\n",
    " \n",
    "print(first_char)\n",
    "print(substring)"
   ]
  },
  {
   "cell_type": "code",
   "execution_count": 121,
   "id": "2fe8b122",
   "metadata": {},
   "outputs": [
    {
     "data": {
      "text/plain": [
       "'My name is Alice, and I am 30 years old.'"
      ]
     },
     "execution_count": 121,
     "metadata": {},
     "output_type": "execute_result"
    }
   ],
   "source": [
    "# String Formatting:\n",
    "# Python provides different ways to format strings, including the % operator, the .format()\n",
    "# method, and f-strings (formatted string literals).\n",
    "\n",
    "name = \"Alice\"\n",
    "age = 30\n",
    "message = \"My name is %s, and I am %d years old.\" % (name, age)\n",
    "message = \"My name is {}, and I am {} years old.\".format(name, age)\n",
    "message = f\"My name is {name}, and I am {age} years old.\"\n",
    "message"
   ]
  },
  {
   "cell_type": "code",
   "execution_count": null,
   "id": "b93578a0",
   "metadata": {},
   "outputs": [],
   "source": []
  },
  {
   "cell_type": "code",
   "execution_count": null,
   "id": "498538f8",
   "metadata": {},
   "outputs": [],
   "source": []
  }
 ],
 "metadata": {
  "kernelspec": {
   "display_name": "Python 3 (ipykernel)",
   "language": "python",
   "name": "python3"
  },
  "language_info": {
   "codemirror_mode": {
    "name": "ipython",
    "version": 3
   },
   "file_extension": ".py",
   "mimetype": "text/x-python",
   "name": "python",
   "nbconvert_exporter": "python",
   "pygments_lexer": "ipython3",
   "version": "3.9.12"
  }
 },
 "nbformat": 4,
 "nbformat_minor": 5
}
